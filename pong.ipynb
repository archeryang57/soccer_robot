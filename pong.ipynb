{
  "nbformat": 4,
  "nbformat_minor": 0,
  "metadata": {
    "kernelspec": {
      "display_name": "Python 3",
      "language": "python",
      "name": "python3"
    },
    "language_info": {
      "codemirror_mode": {
        "name": "ipython",
        "version": 3
      },
      "file_extension": ".py",
      "mimetype": "text/x-python",
      "name": "python",
      "nbconvert_exporter": "python",
      "pygments_lexer": "ipython3",
      "version": "3.8.5"
    },
    "colab": {
      "name": "pong.ipynb",
      "provenance": [],
      "collapsed_sections": []
    }
  },
  "cells": [
    {
      "cell_type": "code",
      "metadata": {
        "id": "nqPJ8hKKtSKS",
        "outputId": "7344dda9-8bf9-440c-f0a2-4d7ee9034870"
      },
      "source": [
        "import pygame, sys"
      ],
      "execution_count": null,
      "outputs": [
        {
          "output_type": "stream",
          "text": [
            "pygame 2.0.1 (SDL 2.0.14, Python 3.8.5)\n",
            "Hello from the pygame community. https://www.pygame.org/contribute.html\n"
          ],
          "name": "stdout"
        }
      ]
    },
    {
      "cell_type": "markdown",
      "metadata": {
        "id": "SfsAOPe84Voi"
      },
      "source": [
        "參數設定"
      ]
    },
    {
      "cell_type": "code",
      "metadata": {
        "id": "wFts_eTCtSKY"
      },
      "source": [
        "speed = 20\n",
        "WHITE = (255, 255, 255)\n",
        "\n",
        "display_width = 500\n",
        "display_height = 300\n"
      ],
      "execution_count": null,
      "outputs": []
    },
    {
      "cell_type": "markdown",
      "metadata": {
        "id": "cfUNCw_Bw7ZH"
      },
      "source": [
        "**擊球板物件**<br />\n",
        "繼承自pygame的精靈物件pygame.sprite.Sprite<br />\n",
        "將上下移動擊球板的程式段改為物件函式"
      ]
    },
    {
      "cell_type": "code",
      "metadata": {
        "id": "EvS-JhH1tSKY"
      },
      "source": [
        "class Paddle(pygame.sprite.Sprite):\n",
        "  def __init__(self,color,initial_position):\n",
        "    pygame.sprite.Sprite.__init__(self)\n",
        "    self.image = pygame.Surface([6,40])\n",
        "    self.image.fill(color)\n",
        "    self.rect=self.image.get_rect()\n",
        "    self.rect.topleft=initial_position\n",
        "    self.move_step = 5\n",
        "      \n",
        "  def move_up(self):\n",
        "    if self.rect.y - self.move_step >= 0:\n",
        "      self.rect.y -= self.move_step\n",
        "          \n",
        "  def move_down(self):\n",
        "    if self.rect.y + self.rect.height + self.move_step <= display_height:\n",
        "      self.rect.y += self.move_step"
      ],
      "execution_count": null,
      "outputs": []
    },
    {
      "cell_type": "markdown",
      "metadata": {
        "id": "VFjbNGo7yA8-"
      },
      "source": [
        "**乒乓球物件**<br />\n",
        "相關全域參數移到物件內<br />\n",
        "球的移動, 碰撞偵測等程式全部移到物件內<br />\n",
        "新增調整球的移動速度函式"
      ]
    },
    {
      "cell_type": "code",
      "metadata": {
        "id": "Xs6OcS39tSKZ"
      },
      "source": [
        "class Ball(pygame.sprite.Sprite):\n",
        "  def __init__(self,color,initial_position):\n",
        "    pygame.sprite.Sprite.__init__(self)\n",
        "    self.radius = 10\n",
        "    self.image = pygame.Surface([self.radius*2, self.radius*2])\n",
        "    self.image.fill(WHITE)\n",
        "    self.image.set_colorkey(WHITE)\n",
        "    self.color = color\n",
        "    self.speed = speed\n",
        "    self.dx = 10\n",
        "    self.dy = 10\n",
        "    self.x_dir = 1\n",
        "    self.y_dir = 1\n",
        "    pygame.draw.circle(self.image,self.color,(self.radius, self.radius), self.radius)\n",
        "    self.rect=self.image.get_rect()\n",
        "    self.rect.topleft=initial_position\n",
        "      \n",
        "  def move(self):\n",
        "    self.rect.x += self.dx * self.x_dir\n",
        "    self.rect.y += self.dy * self.y_dir\n",
        "    \n",
        "    if self.rect.x < self.radius:\n",
        "      # game_over()\n",
        "      self.x_dir *= -1\n",
        "\n",
        "    if self.hit_back() or hit_paddle():\n",
        "      self.x_dir *= -1\n",
        "\n",
        "    if self.hit_sides():\n",
        "      self.y_dir *= -1\n",
        "\n",
        "  def increase_speed(self, step=1):\n",
        "    self.dx += step\n",
        "    self.dy += step\n",
        "      \n",
        "  def decrease_speed(self, step=1):\n",
        "    if self.dx > 0:\n",
        "      self.dx -= step\n",
        "    if self.dy > 0:\n",
        "      self.dy -= step\n",
        "      \n",
        "  def hit_back(self):\n",
        "    if self.rect.x + self.rect.width >= display_width:\n",
        "      self.rect.x = display_width - self.rect.width\n",
        "      return True\n",
        "    return False\n",
        "\n",
        "  def hit_sides(self):\n",
        "    if self.rect.y <= 0:\n",
        "      self.rect.y = 0\n",
        "      return True\n",
        "    \n",
        "    if self.rect.y + self.rect.height >= display_height:\n",
        "      self.rect.y = display_height - self.rect.height\n",
        "      return True\n",
        "    return False"
      ],
      "execution_count": null,
      "outputs": []
    },
    {
      "cell_type": "markdown",
      "metadata": {
        "id": "brKEcdLp3HqT"
      },
      "source": [
        "初始化pygame環境"
      ]
    },
    {
      "cell_type": "code",
      "metadata": {
        "id": "uyIqUddntSKZ"
      },
      "source": [
        "pygame.init()\n",
        "clock = pygame.time.Clock()\n",
        "display = pygame.display.set_mode((display_width, display_height))\n",
        "pygame.display.set_caption(\"Let's Pong!\")"
      ],
      "execution_count": null,
      "outputs": []
    },
    {
      "cell_type": "markdown",
      "metadata": {
        "id": "eU37PLYY3NdK"
      },
      "source": [
        "建立擊球板及球的物件<br />\n",
        "(將物件加入Group, 之後用 group.draw 可以一次將group內所有物件畫出)"
      ]
    },
    {
      "cell_type": "code",
      "metadata": {
        "id": "egUtSi6ktSKa"
      },
      "source": [
        "paddle = Paddle([255,0,0],[10, 40])\n",
        "ball = Ball([0,255,0],[100,100])\n",
        "\n",
        "group = pygame.sprite.Group()\n",
        "group.add(paddle)\n",
        "group.add(ball)"
      ],
      "execution_count": null,
      "outputs": []
    },
    {
      "cell_type": "markdown",
      "metadata": {
        "id": "Y6216JljwKsu"
      },
      "source": [
        "hit_paddle : 檢查球是否撞到板子(直接使用pygame.sprite的碰撞偵測函式)"
      ]
    },
    {
      "cell_type": "code",
      "metadata": {
        "id": "ZBMhyjlotSKa"
      },
      "source": [
        "def hit_paddle():\n",
        "  if pygame.sprite.collide_rect(paddle,ball):\n",
        "    ball.rect.x = paddle.rect.x + paddle.rect.width\n",
        "    return True\n",
        "  return False\n",
        "\n",
        "def game_over():\n",
        "  pygame.quit()"
      ],
      "execution_count": null,
      "outputs": []
    },
    {
      "cell_type": "markdown",
      "metadata": {
        "id": "5CJuGD8V3tZS"
      },
      "source": [
        "程式主流程, 大部份程式都改呼叫物件函數處理<br />\n",
        "新增按左右鍵可調整球的移動速度."
      ]
    },
    {
      "cell_type": "code",
      "metadata": {
        "id": "D97OYefVtSKa",
        "outputId": "1920bfa3-812d-4e78-e0e2-5433d1bcadb5"
      },
      "source": [
        "\n",
        "while True:\n",
        "  clock.tick(speed)  \n",
        "  \n",
        "  pygame.key.set_repeat(50)\n",
        "  events = pygame.event.get()\n",
        "  for event in events:\n",
        "    if event.type == pygame.KEYDOWN:\n",
        "      if event.key == pygame.K_w or event.key == pygame.K_UP:\n",
        "        paddle.move_up()\n",
        "      if event.key == pygame.K_s or event.key == pygame.K_DOWN:\n",
        "        paddle.move_down()\n",
        "      if event.key == pygame.K_LEFT:\n",
        "        ball.decrease_speed()\n",
        "      if event.key == pygame.K_RIGHT:\n",
        "        ball.increase_speed()\n",
        "      if event.key == pygame.K_q:\n",
        "        game_over()\n",
        "            \n",
        "    if event.type == pygame.QUIT:\n",
        "      game_over()\n",
        "        \n",
        "  ball.move()\n",
        "\n",
        "  display.fill((0,0,0))\n",
        "  group.draw(display)\n",
        "  pygame.display.update()\n",
        "  \n",
        "  \n",
        "  # from datetime import datetime\n",
        "  # dateTimeObj = datetime.now()\n",
        "  # timeStr = dateTimeObj.strftime(\"%H%M%S%f\")\n",
        "  # pygame.image.save(display, timeStr +\".jpeg\")\n",
        "  "
      ],
      "execution_count": null,
      "outputs": [
        {
          "output_type": "error",
          "ename": "error",
          "evalue": "display Surface quit",
          "traceback": [
            "\u001b[0;31m---------------------------------------------------------------------------\u001b[0m",
            "\u001b[0;31merror\u001b[0m                                     Traceback (most recent call last)",
            "\u001b[0;32m<ipython-input-8-002df099dda4>\u001b[0m in \u001b[0;36m<module>\u001b[0;34m\u001b[0m\n\u001b[1;32m     21\u001b[0m     \u001b[0mmyball\u001b[0m\u001b[0;34m.\u001b[0m\u001b[0mmove\u001b[0m\u001b[0;34m(\u001b[0m\u001b[0;34m)\u001b[0m\u001b[0;34m\u001b[0m\u001b[0;34m\u001b[0m\u001b[0m\n\u001b[1;32m     22\u001b[0m \u001b[0;34m\u001b[0m\u001b[0m\n\u001b[0;32m---> 23\u001b[0;31m     \u001b[0mdisplay\u001b[0m\u001b[0;34m.\u001b[0m\u001b[0mfill\u001b[0m\u001b[0;34m(\u001b[0m\u001b[0;34m(\u001b[0m\u001b[0;36m0\u001b[0m\u001b[0;34m,\u001b[0m\u001b[0;36m0\u001b[0m\u001b[0;34m,\u001b[0m\u001b[0;36m0\u001b[0m\u001b[0;34m)\u001b[0m\u001b[0;34m)\u001b[0m\u001b[0;34m\u001b[0m\u001b[0;34m\u001b[0m\u001b[0m\n\u001b[0m\u001b[1;32m     24\u001b[0m     \u001b[0mgroup\u001b[0m\u001b[0;34m.\u001b[0m\u001b[0mdraw\u001b[0m\u001b[0;34m(\u001b[0m\u001b[0mdisplay\u001b[0m\u001b[0;34m)\u001b[0m\u001b[0;34m\u001b[0m\u001b[0;34m\u001b[0m\u001b[0m\n\u001b[1;32m     25\u001b[0m     \u001b[0mpygame\u001b[0m\u001b[0;34m.\u001b[0m\u001b[0mdisplay\u001b[0m\u001b[0;34m.\u001b[0m\u001b[0mupdate\u001b[0m\u001b[0;34m(\u001b[0m\u001b[0;34m)\u001b[0m\u001b[0;34m\u001b[0m\u001b[0;34m\u001b[0m\u001b[0m\n",
            "\u001b[0;31merror\u001b[0m: display Surface quit"
          ]
        }
      ]
    },
    {
      "cell_type": "code",
      "metadata": {
        "id": "XJmo9th2tSKa"
      },
      "source": [],
      "execution_count": null,
      "outputs": []
    }
  ]
}